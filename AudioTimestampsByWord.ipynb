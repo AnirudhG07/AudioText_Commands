{
 "cells": [
  {
   "cell_type": "code",
   "execution_count": 2,
   "metadata": {},
   "outputs": [
    {
     "name": "stdout",
     "output_type": "stream",
     "text": [
      "The stale smell of old beer lingers. It takes heat to bring out the odor. A cold dip restores health in zest. A salt pickle tastes fine with ham. Tacos Al Pastor are my favorite. A Zestful food is the hot cross bun.\n"
     ]
    }
   ],
   "source": [
    "import assemblyai as aai\n",
    "#set API KEY for aai\n",
    "aai.settings.api_key = \"d945aa928bb34618b90e7f0b4483279e\"\n",
    "\n",
    "transcriber=aai.Transcriber()\n",
    "#transcript=transcriber.transcribe(\"LINK https://linkname.com/.../().mp3\") #.mp3 at the end is important\n",
    "transcript= transcriber.transcribe(\"harvard.mp3\")\n",
    "audiotext=transcript.text\n",
    "print(audiotext)\n",
    "audiotext_ls=audiotext.split()"
   ]
  },
  {
   "cell_type": "code",
   "execution_count": 3,
   "metadata": {},
   "outputs": [],
   "source": [
    "word_time=[]\n",
    "timestamps=[]\n",
    "for i  in range (len(audiotext_ls)):\n",
    "    word_time=transcript.word_search([audiotext_ls[i]])\n",
    "    for time in word_time:\n",
    "        timestamps.append(time.timestamps)\n",
    "#print(timestamps)\n",
    "    "
   ]
  },
  {
   "cell_type": "code",
   "execution_count": 5,
   "metadata": {},
   "outputs": [
    {
     "name": "stdout",
     "output_type": "stream",
     "text": [
      "[(1370, 1534), (1572, 1914), (1962, 2314), (2362, 2526), (2548, 2734), (2772, 3066), (3098, 4058), (4234, 4574), (4612, 4862), (4916, 5194), (5242, 5406), (5428, 5614), (5652, 5806), (5828, 5966), (5988, 6730), (6890, 7214), (7252, 7546), (7578, 7962), (8026, 8506), (8538, 8782), (8836, 9054), (9092, 9722), (9866, 10174), (10212, 10554), (10602, 10954), (11002, 11354), (11402, 11614), (11652, 11806), (11828, 12394), (12522, 13018), (13034, 13214), (13252, 13674), (13722, 13886), (13908, 14094), (14132, 14810), (14970, 15246), (15268, 15754), (15802, 16110), (16180, 16414), (16452, 16606), (16628, 16862), (16916, 17274), (17322, 17530)]\n"
     ]
    }
   ],
   "source": [
    "unpacked_timestamps = []\n",
    "for sublist in timestamps:\n",
    "    for item in sublist:\n",
    "        unpacked_timestamps.append(item)\n",
    "\n",
    "# Sort the unpacked data\n",
    "sorted_data = sorted(unpacked_timestamps)\n",
    "\n",
    "# Remove duplicates\n",
    "time_order = []\n",
    "seen = set()\n",
    "for item in sorted_data:\n",
    "    if item not in seen:\n",
    "        time_order.append(item)\n",
    "        seen.add(item)\n",
    "print(time_order)\n",
    "#we will get an order of words with time, no duplicates in order"
   ]
  }
 ],
 "metadata": {
  "kernelspec": {
   "display_name": "Python 3",
   "language": "python",
   "name": "python3"
  },
  "language_info": {
   "codemirror_mode": {
    "name": "ipython",
    "version": 3
   },
   "file_extension": ".py",
   "mimetype": "text/x-python",
   "name": "python",
   "nbconvert_exporter": "python",
   "pygments_lexer": "ipython3",
   "version": "3.11.6"
  }
 },
 "nbformat": 4,
 "nbformat_minor": 2
}
