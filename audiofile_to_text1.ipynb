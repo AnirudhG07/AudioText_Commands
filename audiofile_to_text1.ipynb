{
 "cells": [
  {
   "cell_type": "code",
   "execution_count": 2,
   "metadata": {},
   "outputs": [],
   "source": [
    "import assemblyai as aai\n",
    "#set API KEY for aai\n",
    "aai.settings.api_key = \"d945aa928bb34618b90e7f0b4483279e\"\n"
   ]
  },
  {
   "cell_type": "code",
   "execution_count": 3,
   "metadata": {},
   "outputs": [
    {
     "name": "stdout",
     "output_type": "stream",
     "text": [
      "The stale smell of old beer lingers. It takes heat to bring out the odor. A cold dip restores health in Zest. A salt pickle tastes fine with ham tacos. Al pastor are my favorite. A Zestful food is the hot cross bun.\n"
     ]
    }
   ],
   "source": [
    "transcriber=aai.Transcriber()\n",
    "#transcript=transcriber.transcribe(\"LINK https://linkname.com/.../().mp3\") #.mp3 at the end is important\n",
    "transcript= transcriber.transcribe(\"harvard.mp3\")\n",
    "print(transcript.text)"
   ]
  },
  {
   "cell_type": "code",
   "execution_count": 4,
   "metadata": {},
   "outputs": [
    {
     "data": {
      "text/plain": [
       "<assemblyai.transcriber.Transcript at 0x10a98ab10>"
      ]
     },
     "execution_count": 4,
     "metadata": {},
     "output_type": "execute_result"
    }
   ],
   "source": [
    "#We can also have many more functions we can use like \n",
    "#to get the class of transcript\n",
    "transcript"
   ]
  },
  {
   "cell_type": "code",
   "execution_count": 5,
   "metadata": {},
   "outputs": [
    {
     "data": {
      "text/plain": [
       "18.0"
      ]
     },
     "execution_count": 5,
     "metadata": {},
     "output_type": "execute_result"
    }
   ],
   "source": [
    "#to get the audio duration\n",
    "transcript.audio_duration"
   ]
  },
  {
   "cell_type": "code",
   "execution_count": 6,
   "metadata": {},
   "outputs": [
    {
     "name": "stdout",
     "output_type": "stream",
     "text": [
      "The stale smell of old beer lingers.\n",
      "It takes heat to bring out the odor.\n",
      "A cold dip restores health in Zest.\n",
      "A salt pickle tastes fine with ham tacos.\n",
      "Al pastor are my favorite.\n",
      "A Zestful food is the hot cross bun.\n"
     ]
    }
   ],
   "source": [
    "#to get each sentences we can do \n",
    "sentences=transcript.get_sentences()\n",
    "for sentence in sentences:\n",
    "    print(sentence.text)"
   ]
  },
  {
   "cell_type": "code",
   "execution_count": 7,
   "metadata": {},
   "outputs": [
    {
     "name": "stdout",
     "output_type": "stream",
     "text": [
      "The stale smell of old beer lingers. It takes heat to bring out the odor. A cold dip restores health in Zest. A salt pickle tastes fine with ham tacos. Al pastor are my favorite.\n",
      "A Zestful food is the hot cross bun.\n"
     ]
    }
   ],
   "source": [
    "#for paragraph, we can do a similar thing\n",
    "paragraphs=transcript.get_paragraphs()\n",
    "for paragraph in paragraphs:\n",
    "    print(paragraph.text)"
   ]
  },
  {
   "cell_type": "code",
   "execution_count": 10,
   "metadata": {},
   "outputs": [
    {
     "name": "stdout",
     "output_type": "stream",
     "text": [
      "Found 'smell' 1 times in the transcript\n",
      "[(1962, 2314)]\n",
      "[2]\n",
      "Found 'zest' 1 times in the transcript\n",
      "[(9092, 9722)]\n",
      "[21]\n"
     ]
    }
   ],
   "source": [
    "#to do word search along with index(starting from 0) and at what time it appears, we can simply do\n",
    "matches=transcript.word_search([\"smell\",\"Zest\"])\n",
    "for match in matches:\n",
    "    print(f\"Found '{match.text}' {match.count} times in the transcript\")  # just a way of writing\n",
    "    print(match.timestamps)\n",
    "    print(match.indexes)\n",
    "# match.text is word itself, match.count is number of times it is coming"
   ]
  },
  {
   "cell_type": "code",
   "execution_count": 14,
   "metadata": {},
   "outputs": [
    {
     "name": "stdout",
     "output_type": "stream",
     "text": [
      "the stale smell of old beer lingers it takes heat to bring out the odor a cold dip restores health in zest a salt pickle tastes fine with ham tacos al pastor are my favorite a zestful food is the hot cross bun\n"
     ]
    }
   ],
   "source": [
    "#lets configurate the audio file\n",
    "#lets first do punctuation and format_text function\n",
    "config= aai.TranscriptionConfig(punctuate=False, format_text=False)\n",
    "\n",
    "transcriber =aai.Transcriber(config=config)\n",
    "transcript=transcriber.transcribe(\"harvard.mp3\")\n",
    "print(transcript.text)"
   ]
  },
  {
   "cell_type": "code",
   "execution_count": 21,
   "metadata": {},
   "outputs": [
    {
     "name": "stdout",
     "output_type": "stream",
     "text": [
      "- The stale smell of old beer lingers. A cold dip restores health in Zest. A salt pickle tastes fine with ham tacos. A Zestful food is the hot cross bun.\n"
     ]
    }
   ],
   "source": [
    "#Let's Summarize the paragraph \n",
    "# summary_model is optional and summary_type as well. But it is preferred to specify them\n",
    "config=aai.TranscriptionConfig(summarization=True,\n",
    "                                summary_model=aai.SummarizationModel.informative, \n",
    "                                summary_type=aai.SummarizationType.bullets)\n",
    "transcript=transcriber.transcribe(\"harvard.mp3\", config=config)\n",
    "print(transcript.summary)"
   ]
  }
 ],
 "metadata": {
  "kernelspec": {
   "display_name": "Python 3",
   "language": "python",
   "name": "python3"
  },
  "language_info": {
   "codemirror_mode": {
    "name": "ipython",
    "version": 3
   },
   "file_extension": ".py",
   "mimetype": "text/x-python",
   "name": "python",
   "nbconvert_exporter": "python",
   "pygments_lexer": "ipython3",
   "version": "3.11.6"
  }
 },
 "nbformat": 4,
 "nbformat_minor": 2
}
